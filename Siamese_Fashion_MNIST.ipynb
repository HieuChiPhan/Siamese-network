{
 "cells": [
  {
   "cell_type": "markdown",
   "metadata": {
    "colab_type": "text",
    "id": "unr6WiTswYyP"
   },
   "source": [
    "Based on this work: https://gist.github.com/mmmikael/0a3d4fae965bdbec1f9d"
   ]
  },
  {
   "cell_type": "code",
   "execution_count": 1,
   "metadata": {
    "colab": {
     "base_uri": "https://localhost:8080/",
     "height": 34
    },
    "colab_type": "code",
    "id": "uoeIuLbC4yC0",
    "outputId": "e3c171ed-f6da-40c4-d480-93fb6d425d43"
   },
   "outputs": [
    {
     "name": "stderr",
     "output_type": "stream",
     "text": [
      "Using TensorFlow backend.\n"
     ]
    }
   ],
   "source": [
    "from keras.layers import Conv2D, ZeroPadding2D, Activation, Input, concatenate\n",
    "# from keras.layers.normalization import BatchNormalization\n",
    "from keras.layers.pooling import MaxPooling2D, AveragePooling2D\n",
    "from keras.layers.merge import Concatenate\n",
    "from keras.layers.core import Lambda, Flatten, Dense\n",
    "from keras.layers import Convolution2D,MaxPooling2D,Flatten,Dense,BatchNormalization,Dropout\n",
    "# from keras.initializers import glorot_uniform\n",
    "# from sklearn.preprocessing import LabelBinarizer\n",
    "from keras.optimizers import *\n",
    "from keras.models import Sequential\n",
    "from keras.models import Model\n",
    "# from keras.applications import ResNet50,VGG16\n",
    "import numpy as np"
   ]
  },
  {
   "cell_type": "code",
   "execution_count": 0,
   "metadata": {
    "colab": {},
    "colab_type": "code",
    "id": "jSV19rgxCHr-"
   },
   "outputs": [],
   "source": [
    "def euclidean_distance(vects):\n",
    "    x, y = vects\n",
    "    sum_square = K.sum(K.square(x - y), axis=1, keepdims=True)\n",
    "    return K.sqrt(K.maximum(sum_square, K.epsilon()))"
   ]
  },
  {
   "cell_type": "code",
   "execution_count": 0,
   "metadata": {
    "colab": {},
    "colab_type": "code",
    "id": "im6e_HzGCls0"
   },
   "outputs": [],
   "source": [
    "def eucl_dist_output_shape(shapes):\n",
    "    shape1, shape2 = shapes\n",
    "    return (shape1[0], 1)"
   ]
  },
  {
   "cell_type": "code",
   "execution_count": 0,
   "metadata": {
    "colab": {},
    "colab_type": "code",
    "id": "UzTId-M25GsK"
   },
   "outputs": [],
   "source": [
    "def siamese_network(input_shape):\n",
    "    left_input = Input((input_shape[0],input_shape[1],1))\n",
    "    right_input = Input((input_shape[0],input_shape[1],1))\n",
    "    model=Sequential()\n",
    "    model.add(Flatten())\n",
    "    model.add(Dense(1024, activation='relu'))\n",
    "#     model.add(Dropout(0.5))\n",
    "    model.add(Dense(512, activation='relu'))\n",
    "    encoded_l = model(left_input)\n",
    "    encoded_r = model(right_input) \n",
    "    L1_distance = Lambda(euclidean_distance)([encoded_l, encoded_r])\n",
    "    return Model(inputs=[left_input,right_input],outputs=L1_distance)\n",
    "\n"
   ]
  },
  {
   "cell_type": "code",
   "execution_count": 5,
   "metadata": {
    "colab": {
     "base_uri": "https://localhost:8080/",
     "height": 306
    },
    "colab_type": "code",
    "id": "ezahtkee5cIw",
    "outputId": "914d7c0d-2099-4990-8e40-b688bf73f74a"
   },
   "outputs": [
    {
     "name": "stdout",
     "output_type": "stream",
     "text": [
      "__________________________________________________________________________________________________\n",
      "Layer (type)                    Output Shape         Param #     Connected to                     \n",
      "==================================================================================================\n",
      "input_1 (InputLayer)            (None, 28, 28, 1)    0                                            \n",
      "__________________________________________________________________________________________________\n",
      "input_2 (InputLayer)            (None, 28, 28, 1)    0                                            \n",
      "__________________________________________________________________________________________________\n",
      "sequential_1 (Sequential)       (None, 512)          1328640     input_1[0][0]                    \n",
      "                                                                 input_2[0][0]                    \n",
      "__________________________________________________________________________________________________\n",
      "lambda_1 (Lambda)               (None, 1)            0           sequential_1[1][0]               \n",
      "                                                                 sequential_1[2][0]               \n",
      "==================================================================================================\n",
      "Total params: 1,328,640\n",
      "Trainable params: 1,328,640\n",
      "Non-trainable params: 0\n",
      "__________________________________________________________________________________________________\n"
     ]
    }
   ],
   "source": [
    "input_shape=(28,28)\n",
    "model = siamese_network(input_shape)\n",
    "model.summary()"
   ]
  },
  {
   "cell_type": "code",
   "execution_count": 6,
   "metadata": {
    "colab": {
     "base_uri": "https://localhost:8080/",
     "height": 170
    },
    "colab_type": "code",
    "id": "nSZrKf8h7iSI",
    "outputId": "278e7c06-0679-482c-b720-5ec0368789e0"
   },
   "outputs": [
    {
     "name": "stdout",
     "output_type": "stream",
     "text": [
      "Downloading data from http://fashion-mnist.s3-website.eu-central-1.amazonaws.com/train-labels-idx1-ubyte.gz\n",
      "32768/29515 [=================================] - 0s 8us/step\n",
      "Downloading data from http://fashion-mnist.s3-website.eu-central-1.amazonaws.com/train-images-idx3-ubyte.gz\n",
      "26427392/26421880 [==============================] - 4s 0us/step\n",
      "Downloading data from http://fashion-mnist.s3-website.eu-central-1.amazonaws.com/t10k-labels-idx1-ubyte.gz\n",
      "8192/5148 [===============================================] - 0s 0us/step\n",
      "Downloading data from http://fashion-mnist.s3-website.eu-central-1.amazonaws.com/t10k-images-idx3-ubyte.gz\n",
      "4423680/4422102 [==============================] - 2s 0us/step\n"
     ]
    },
    {
     "data": {
      "text/plain": [
       "(10000, 28, 28, 1)"
      ]
     },
     "execution_count": 6,
     "metadata": {
      "tags": []
     },
     "output_type": "execute_result"
    }
   ],
   "source": [
    "from keras.datasets import fashion_mnist\n",
    "(X_train, Y_train), (X_test, Y_test) = fashion_mnist.load_data()\n",
    "X_train = X_train.astype('float32')\n",
    "X_test = X_test.astype('float32')\n",
    "X_train /= 255\n",
    "X_test /= 255\n",
    "X_train = X_train.reshape((-1,28,28,1))\n",
    "X_test = X_test.reshape((-1,28,28,1))\n",
    "X_test.shape"
   ]
  },
  {
   "cell_type": "code",
   "execution_count": 7,
   "metadata": {
    "colab": {
     "base_uri": "https://localhost:8080/",
     "height": 34
    },
    "colab_type": "code",
    "id": "7yRC32Z-7xq8",
    "outputId": "ad0c1b1f-d3c8-4c17-d643-34307cbaa5fa"
   },
   "outputs": [
    {
     "data": {
      "text/plain": [
       "(6000,)"
      ]
     },
     "execution_count": 7,
     "metadata": {
      "tags": []
     },
     "output_type": "execute_result"
    }
   ],
   "source": [
    "import numpy as np\n",
    "digit_indices = [np.where(Y_train == i)[0] for i in range(10)]\n",
    "digit_indices[2].shape"
   ]
  },
  {
   "cell_type": "code",
   "execution_count": 0,
   "metadata": {
    "colab": {},
    "colab_type": "code",
    "id": "8i8nQ6t68Y2x"
   },
   "outputs": [],
   "source": [
    "def create_pairs(x, digit_indices):\n",
    "    pairs = []\n",
    "    labels = []\n",
    "    n = min([len(digit_indices[d]) for d in range(10)]) - 1\n",
    "    print(n)\n",
    "    for d in range(10):\n",
    "        for i in range(n):\n",
    "            z1, z2 = digit_indices[d][i], digit_indices[d][i+1]\n",
    "            pairs += [[x[z1], x[z2]]]\n",
    "            inc = random.randrange(1, 10)\n",
    "            dn = (d + inc) % 10\n",
    "            z1, z2 = digit_indices[d][i], digit_indices[dn][i]\n",
    "            pairs += [[x[z1], x[z2]]]\n",
    "            labels += [1, 0]\n",
    "    return np.array(pairs), np.array(labels)"
   ]
  },
  {
   "cell_type": "code",
   "execution_count": 9,
   "metadata": {
    "colab": {
     "base_uri": "https://localhost:8080/",
     "height": 68
    },
    "colab_type": "code",
    "id": "aJ2jDNe_8qXJ",
    "outputId": "5aa77486-2314-4c03-ebe8-259e23fae9f8"
   },
   "outputs": [
    {
     "name": "stdout",
     "output_type": "stream",
     "text": [
      "5999\n",
      "999\n"
     ]
    },
    {
     "data": {
      "text/plain": [
       "(119980, 2, 28, 28, 1)"
      ]
     },
     "execution_count": 9,
     "metadata": {
      "tags": []
     },
     "output_type": "execute_result"
    }
   ],
   "source": [
    "import random\n",
    "digit_indices = [np.where(Y_train == i)[0] for i in range(10)]\n",
    "tr_pairs, tr_y = create_pairs(X_train, digit_indices)\n",
    "\n",
    "digit_indices = [np.where(Y_test == i)[0] for i in range(10)]\n",
    "te_pairs, te_y = create_pairs(X_test, digit_indices)\n",
    "tr_pairs.shape"
   ]
  },
  {
   "cell_type": "code",
   "execution_count": 0,
   "metadata": {
    "colab": {},
    "colab_type": "code",
    "id": "Iyx3ZFO2B4RU"
   },
   "outputs": [],
   "source": [
    "def contrastive_loss(y_true, y_pred):\n",
    "    margin = 1\n",
    "    square_pred = K.square(y_pred)\n",
    "    margin_square = K.square(K.maximum(margin - y_pred, 0))\n",
    "    return K.mean(y_true * square_pred + (1 - y_true) * margin_square)"
   ]
  },
  {
   "cell_type": "code",
   "execution_count": 0,
   "metadata": {
    "colab": {},
    "colab_type": "code",
    "id": "HOH8KLiQsFKJ"
   },
   "outputs": [],
   "source": [
    "def accuracy(y_true, y_pred):\n",
    "    return K.mean(K.equal(y_true, K.cast(y_pred < 0.5, y_true.dtype)))"
   ]
  },
  {
   "cell_type": "code",
   "execution_count": 13,
   "metadata": {
    "colab": {
     "base_uri": "https://localhost:8080/",
     "height": 748
    },
    "colab_type": "code",
    "id": "Ub7-Yrw29Hwq",
    "outputId": "c8ca8c94-3732-4f94-8ba8-42f4fa08bbc4"
   },
   "outputs": [
    {
     "name": "stderr",
     "output_type": "stream",
     "text": [
      "/usr/local/lib/python3.6/dist-packages/ipykernel_launcher.py:8: UserWarning: The `nb_epoch` argument in `fit` has been renamed `epochs`.\n",
      "  \n"
     ]
    },
    {
     "name": "stdout",
     "output_type": "stream",
     "text": [
      "Train on 119980 samples, validate on 19980 samples\n",
      "Epoch 1/20\n",
      "119980/119980 [==============================] - 9s 77us/step - loss: 0.1329 - accuracy: 0.8354 - val_loss: 0.0991 - val_accuracy: 0.8740\n",
      "Epoch 2/20\n",
      "119980/119980 [==============================] - 7s 60us/step - loss: 0.0875 - accuracy: 0.8883 - val_loss: 0.0841 - val_accuracy: 0.8927\n",
      "Epoch 3/20\n",
      "119980/119980 [==============================] - 7s 59us/step - loss: 0.0787 - accuracy: 0.9005 - val_loss: 0.0870 - val_accuracy: 0.8867\n",
      "Epoch 4/20\n",
      "119980/119980 [==============================] - 7s 59us/step - loss: 0.0735 - accuracy: 0.9083 - val_loss: 0.0837 - val_accuracy: 0.8972\n",
      "Epoch 5/20\n",
      "119980/119980 [==============================] - 7s 59us/step - loss: 0.0701 - accuracy: 0.9132 - val_loss: 0.0778 - val_accuracy: 0.9024\n",
      "Epoch 6/20\n",
      "119980/119980 [==============================] - 7s 59us/step - loss: 0.0668 - accuracy: 0.9179 - val_loss: 0.0757 - val_accuracy: 0.9069\n",
      "Epoch 7/20\n",
      "119980/119980 [==============================] - 7s 59us/step - loss: 0.0646 - accuracy: 0.9208 - val_loss: 0.0856 - val_accuracy: 0.8910\n",
      "Epoch 8/20\n",
      "119980/119980 [==============================] - 7s 59us/step - loss: 0.0626 - accuracy: 0.9243 - val_loss: 0.0753 - val_accuracy: 0.9076\n",
      "Epoch 9/20\n",
      "119980/119980 [==============================] - 7s 59us/step - loss: 0.0605 - accuracy: 0.9279 - val_loss: 0.0807 - val_accuracy: 0.8979\n",
      "Epoch 10/20\n",
      "119980/119980 [==============================] - 7s 59us/step - loss: 0.0590 - accuracy: 0.9305 - val_loss: 0.0801 - val_accuracy: 0.8957\n",
      "Epoch 11/20\n",
      "119980/119980 [==============================] - 7s 59us/step - loss: 0.0578 - accuracy: 0.9323 - val_loss: 0.0773 - val_accuracy: 0.9054\n",
      "Epoch 12/20\n",
      "119980/119980 [==============================] - 7s 59us/step - loss: 0.0559 - accuracy: 0.9351 - val_loss: 0.0802 - val_accuracy: 0.8988\n",
      "Epoch 13/20\n",
      "119980/119980 [==============================] - 7s 59us/step - loss: 0.0546 - accuracy: 0.9365 - val_loss: 0.0774 - val_accuracy: 0.9047\n",
      "Epoch 14/20\n",
      "119980/119980 [==============================] - 7s 59us/step - loss: 0.0535 - accuracy: 0.9392 - val_loss: 0.0810 - val_accuracy: 0.9013\n",
      "Epoch 15/20\n",
      "119980/119980 [==============================] - 7s 59us/step - loss: 0.0526 - accuracy: 0.9408 - val_loss: 0.0795 - val_accuracy: 0.9029\n",
      "Epoch 16/20\n",
      "119980/119980 [==============================] - 7s 60us/step - loss: 0.0516 - accuracy: 0.9419 - val_loss: 0.0761 - val_accuracy: 0.9079\n",
      "Epoch 17/20\n",
      "119980/119980 [==============================] - 7s 59us/step - loss: 0.0505 - accuracy: 0.9430 - val_loss: 0.0760 - val_accuracy: 0.9097\n",
      "Epoch 18/20\n",
      "119980/119980 [==============================] - 7s 59us/step - loss: 0.0496 - accuracy: 0.9439 - val_loss: 0.0756 - val_accuracy: 0.9091\n",
      "Epoch 19/20\n",
      "119980/119980 [==============================] - 7s 59us/step - loss: 0.0488 - accuracy: 0.9459 - val_loss: 0.0802 - val_accuracy: 0.9028\n",
      "Epoch 20/20\n",
      "119980/119980 [==============================] - 7s 59us/step - loss: 0.0481 - accuracy: 0.9469 - val_loss: 0.0800 - val_accuracy: 0.9020\n"
     ]
    }
   ],
   "source": [
    "from keras.callbacks import LearningRateScheduler\n",
    "optimizer = RMSprop()\n",
    "model.compile(loss=contrastive_loss, optimizer=optimizer, metrics=[accuracy])\n",
    "hist=model.fit([tr_pairs[:, 0], tr_pairs[:, 1]], tr_y, batch_size=128, nb_epoch=20,\n",
    "          validation_data=([te_pairs[:, 0], te_pairs[:, 1]], te_y))"
   ]
  },
  {
   "cell_type": "code",
   "execution_count": 0,
   "metadata": {
    "colab": {},
    "colab_type": "code",
    "id": "L_Ii_Uayievq"
   },
   "outputs": [],
   "source": [
    "def compute_accuracy(y_true, y_pred):\n",
    "    pred = y_pred.ravel() > 0.5\n",
    "    return np.mean(pred == y_true)"
   ]
  },
  {
   "cell_type": "code",
   "execution_count": 15,
   "metadata": {
    "colab": {
     "base_uri": "https://localhost:8080/",
     "height": 68
    },
    "colab_type": "code",
    "id": "YE-0MBhWUw1E",
    "outputId": "f220b1b5-617f-47df-9a44-6b54729c901b"
   },
   "outputs": [
    {
     "name": "stderr",
     "output_type": "stream",
     "text": [
      "/usr/local/lib/python3.6/dist-packages/ipykernel_launcher.py:5: DeprecationWarning: elementwise == comparison failed; this will raise an error in the future.\n",
      "  \"\"\"\n"
     ]
    },
    {
     "data": {
      "text/plain": [
       "0.0"
      ]
     },
     "execution_count": 15,
     "metadata": {
      "tags": []
     },
     "output_type": "execute_result"
    }
   ],
   "source": [
    "pred_y=model.predict([te_pairs[:, 0], te_pairs[:, 1]])\n",
    "compute_accuracy(tr_y, pred_y)"
   ]
  },
  {
   "cell_type": "code",
   "execution_count": 17,
   "metadata": {
    "colab": {
     "base_uri": "https://localhost:8080/",
     "height": 286
    },
    "colab_type": "code",
    "id": "N2tAdzH2bGHw",
    "outputId": "313b71a3-2d8f-4064-fc17-3c56666c64e5"
   },
   "outputs": [
    {
     "data": {
      "image/png": "[encoded data removed]",
      "text/plain": [
       "<Figure size 1440x288 with 16 Axes>"
      ]
     },
     "metadata": {
      "tags": []
     },
     "output_type": "display_data"
    }
   ],
   "source": [
    "import matplotlib.pyplot as plt\n",
    "import cv2\n",
    "\n",
    "pics_number=8\n",
    "pr_list=np.random.randint(0, te_pairs.shape[0], size=pics_number)\n",
    "\n",
    "fig=plt.figure(figsize=(20, 4))\n",
    "# fig, axes = plt.subplots(nrows=2, ncols=pics_number,figsize=(20, 10))\n",
    "fig.tight_layout()\n",
    "\n",
    "print_i=0\n",
    "for row in pr_list:\n",
    "  print_i+=1\n",
    "  img1=te_pairs[row,0]\n",
    "  img2=te_pairs[row,1]\n",
    "  img1=img1.reshape(28,28)\n",
    "  img2=img2.reshape(28,28)\n",
    "\n",
    "  fig.add_subplot(2, pics_number, print_i)\n",
    "  plt.imshow(img1)\n",
    "  fig.add_subplot(2, pics_number, print_i+pics_number)\n",
    "  plt.imshow(img2)\n",
    "  if pred_y[row]>0.5:\n",
    "    text='Not the same class'\n",
    "  else:\n",
    "    text='Same class'\n",
    "  plt.xlabel('{}'.format(text),fontsize = 15,fontweight=\"bold\")\n",
    "#   fig.tight_layout()\n"
   ]
  }
 ],
 "metadata": {
  "accelerator": "GPU",
  "colab": {
   "name": "siamese",
   "provenance": [],
   "version": "0.3.2"
  },
  "kernelspec": {
   "display_name": "Python 3",
   "language": "python",
   "name": "python3"
  },
  "language_info": {
   "codemirror_mode": {
    "name": "ipython",
    "version": 3
   },
   "file_extension": ".py",
   "mimetype": "text/x-python",
   "name": "python",
   "nbconvert_exporter": "python",
   "pygments_lexer": "ipython3",
   "version": "3.6.5"
  }
 },
 "nbformat": 4,
 "nbformat_minor": 1
}
