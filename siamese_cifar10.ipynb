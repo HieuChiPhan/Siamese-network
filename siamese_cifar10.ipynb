{
  "nbformat": 4,
  "nbformat_minor": 0,
  "metadata": {
    "colab": {
      "name": "siamese",
      "version": "0.3.2",
      "provenance": []
    },
    "kernelspec": {
      "name": "python3",
      "display_name": "Python 3"
    },
    "accelerator": "GPU"
  },
  "cells": [
    {
      "metadata": {
        "id": "unr6WiTswYyP",
        "colab_type": "text"
      },
      "cell_type": "markdown",
      "source": [
        "Based on this work: https://gist.github.com/mmmikael/0a3d4fae965bdbec1f9d"
      ]
    },
    {
      "metadata": {
        "id": "uoeIuLbC4yC0",
        "colab_type": "code",
        "outputId": "1e0b3b11-7609-4d4b-dced-06de04c26356",
        "colab": {
          "base_uri": "https://localhost:8080/",
          "height": 34
        }
      },
      "cell_type": "code",
      "source": [
        "# from keras.layers import Conv2D, ZeroPadding2D, Activation, Input, concatenate\n",
        "# from keras.layers.normalization import BatchNormalization\n",
        "# from keras.layers.pooling import MaxPooling2D, AveragePooling2D\n",
        "# from keras.layers.merge import Concatenate\n",
        "# from keras.layers.core import Lambda, Flatten, Dense\n",
        "# from keras.layers import Convolution2D,MaxPooling2D,Flatten,Dense,BatchNormalization,Dropout\n",
        "# from keras.initializers import glorot_uniform\n",
        "# from sklearn.preprocessing import LabelBinarizer\n",
        "# from keras.optimizers import *\n",
        "# from keras.models import Sequential\n",
        "# from keras.models import Model\n",
        "# from keras.applications import ResNet50,VGG16\n",
        "# import numpy as np\n",
        "\n",
        "\n",
        "from keras.layers import Conv2D, ZeroPadding2D, Activation, Input, concatenate\n",
        "# from keras.layers.normalization import BatchNormalization\n",
        "from keras.layers.pooling import MaxPooling2D, AveragePooling2D\n",
        "from keras.layers.merge import Concatenate\n",
        "from keras.layers.core import Lambda, Flatten, Dense\n",
        "from keras.layers import Convolution2D,MaxPooling2D,Flatten,Dense,BatchNormalization,Dropout\n",
        "# from keras.initializers import glorot_uniform\n",
        "# from sklearn.preprocessing import LabelBinarizer\n",
        "from keras.optimizers import *\n",
        "from keras.models import Sequential\n",
        "from keras.models import Model\n",
        "# from keras.applications import ResNet50,VGG16\n",
        "import numpy as np"
      ],
      "execution_count": 1,
      "outputs": [
        {
          "output_type": "stream",
          "text": [
            "Using TensorFlow backend.\n"
          ],
          "name": "stderr"
        }
      ]
    },
    {
      "metadata": {
        "id": "jSV19rgxCHr-",
        "colab_type": "code",
        "colab": {}
      },
      "cell_type": "code",
      "source": [
        "def euclidean_distance(vects):\n",
        "    x, y = vects\n",
        "    sum_square = K.sum(K.square(x - y), axis=1, keepdims=True)\n",
        "    return K.sqrt(K.maximum(sum_square, K.epsilon()))"
      ],
      "execution_count": 0,
      "outputs": []
    },
    {
      "metadata": {
        "id": "im6e_HzGCls0",
        "colab_type": "code",
        "colab": {}
      },
      "cell_type": "code",
      "source": [
        "def eucl_dist_output_shape(shapes):\n",
        "    shape1, shape2 = shapes\n",
        "    return (shape1[0], 1)"
      ],
      "execution_count": 0,
      "outputs": []
    },
    {
      "metadata": {
        "id": "UzTId-M25GsK",
        "colab_type": "code",
        "colab": {}
      },
      "cell_type": "code",
      "source": [
        "def siamese_network(input_shape):\n",
        "    left_input = Input((input_shape[0],input_shape[1],3))\n",
        "    right_input = Input((input_shape[0],input_shape[1],3))\n",
        "    model=Sequential()\n",
        "    \n",
        "#     RN=ResNet50(weights='imagenet',include_top=False,input_shape=input_shape)    \n",
        "#     RN.trainable=True\n",
        "#     set_trainable=False\n",
        "#     for layer in RN.layers:\n",
        "#       if layer.name=='res5c_branch2c':\n",
        "#         set_trainable=True\n",
        "#       if set_trainable:\n",
        "#         layer.trainable=True\n",
        "#       else:\n",
        "#         layer.trainable=False\n",
        "#     RN.summary()\n",
        "#     model.add(RN)   , input_shape = (input_shape[0],input_shape[1],1)\n",
        "\n",
        "\n",
        "#     model.add(Convolution2D(filters = 32, kernel_size = (2, 2), activation='relu'))\n",
        "#     model.add(BatchNormalization())\n",
        "#     model.add(Convolution2D(filters = 64, kernel_size = (2, 2), activation='relu'))\n",
        "#     model.add(BatchNormalization())\n",
        "#     model.add(MaxPooling2D(strides=(2,2)))\n",
        "# #     model.add(Dropout(0.1))\n",
        "    \n",
        "    model.add(Flatten())\n",
        "    model.add(Dense(1024, activation='relu'))\n",
        "    model.add(Dense(512, activation='relu'))\n",
        "#     model.add(Dropout(0.5))\n",
        "    model.add(Dense(256, activation='relu'))\n",
        "#     model.add(Dropout(0.5))\n",
        "\n",
        "    \n",
        "    encoded_l = model(left_input)\n",
        "    encoded_r = model(right_input) \n",
        "#     L1_layer = Lambda(lambda tensors:euclidean_distance(tensors),output_shape=eucl_dist_output_shape)#([encoded_l, encoded_r])\n",
        "#     L1_distance = L1_layer([encoded_l, encoded_r])\n",
        "  \n",
        "    L1_distance = Lambda(euclidean_distance)([encoded_l, encoded_r])\n",
        "\n",
        "#     L1_distance = L1_layer([encoded_l, encoded_r])\n",
        "#     prediction = Dense(1,activation='sigmoid')(L1_distance)\n",
        "#     siamese_net = Model(inputs=[left_input,right_input],outputs=L1_distance)\n",
        "    return Model(inputs=[left_input,right_input],outputs=L1_distance)\n",
        "\n"
      ],
      "execution_count": 0,
      "outputs": []
    },
    {
      "metadata": {
        "id": "ezahtkee5cIw",
        "colab_type": "code",
        "outputId": "0462ebc6-3357-47f0-92a8-11e591b51bd4",
        "colab": {
          "base_uri": "https://localhost:8080/",
          "height": 306
        }
      },
      "cell_type": "code",
      "source": [
        "input_shape=(32,32)\n",
        "model = siamese_network(input_shape)\n",
        "model.summary()"
      ],
      "execution_count": 5,
      "outputs": [
        {
          "output_type": "stream",
          "text": [
            "__________________________________________________________________________________________________\n",
            "Layer (type)                    Output Shape         Param #     Connected to                     \n",
            "==================================================================================================\n",
            "input_1 (InputLayer)            (None, 32, 32, 3)    0                                            \n",
            "__________________________________________________________________________________________________\n",
            "input_2 (InputLayer)            (None, 32, 32, 3)    0                                            \n",
            "__________________________________________________________________________________________________\n",
            "sequential_1 (Sequential)       (None, 256)          3802880     input_1[0][0]                    \n",
            "                                                                 input_2[0][0]                    \n",
            "__________________________________________________________________________________________________\n",
            "lambda_1 (Lambda)               (None, 1)            0           sequential_1[1][0]               \n",
            "                                                                 sequential_1[2][0]               \n",
            "==================================================================================================\n",
            "Total params: 3,802,880\n",
            "Trainable params: 3,802,880\n",
            "Non-trainable params: 0\n",
            "__________________________________________________________________________________________________\n"
          ],
          "name": "stdout"
        }
      ]
    },
    {
      "metadata": {
        "id": "nSZrKf8h7iSI",
        "colab_type": "code",
        "outputId": "fa83c0ae-a930-4fb9-d809-af7c4081e988",
        "colab": {
          "base_uri": "https://localhost:8080/",
          "height": 68
        }
      },
      "cell_type": "code",
      "source": [
        "from keras.datasets import cifar10\n",
        "(X_train, Y_train), (X_test, Y_test) = cifar10.load_data()\n",
        "X_train = X_train.astype('float32')\n",
        "X_test = X_test.astype('float32')\n",
        "X_train /= 255\n",
        "X_test /= 255\n",
        "X_train = X_train.reshape((-1,32,32,3))\n",
        "X_test = X_test.reshape((-1,32,32,3))\n",
        "X_test.shape"
      ],
      "execution_count": 6,
      "outputs": [
        {
          "output_type": "stream",
          "text": [
            "Downloading data from https://www.cs.toronto.edu/~kriz/cifar-10-python.tar.gz\n",
            "170500096/170498071 [==============================] - 68s 0us/step\n"
          ],
          "name": "stdout"
        },
        {
          "output_type": "execute_result",
          "data": {
            "text/plain": [
              "(10000, 32, 32, 3)"
            ]
          },
          "metadata": {
            "tags": []
          },
          "execution_count": 6
        }
      ]
    },
    {
      "metadata": {
        "id": "7yRC32Z-7xq8",
        "colab_type": "code",
        "outputId": "40d34327-0796-415f-cfd9-8f7edacea02e",
        "colab": {
          "base_uri": "https://localhost:8080/",
          "height": 34
        }
      },
      "cell_type": "code",
      "source": [
        "import numpy as np\n",
        "digit_indices = [np.where(Y_train == i)[0] for i in range(10)]\n",
        "digit_indices[2].shape"
      ],
      "execution_count": 7,
      "outputs": [
        {
          "output_type": "execute_result",
          "data": {
            "text/plain": [
              "(5000,)"
            ]
          },
          "metadata": {
            "tags": []
          },
          "execution_count": 7
        }
      ]
    },
    {
      "metadata": {
        "id": "8i8nQ6t68Y2x",
        "colab_type": "code",
        "colab": {}
      },
      "cell_type": "code",
      "source": [
        "def create_pairs(x, digit_indices):\n",
        "    \"\"\" Positive and negative pair creation.\n",
        "        Alternates between positive and negative pairs.\n",
        "    \"\"\"\n",
        "    pairs = []\n",
        "    labels = []\n",
        "    n = min([len(digit_indices[d]) for d in range(10)]) - 1\n",
        "    print(n)\n",
        "    for d in range(10):\n",
        "        for i in range(n):\n",
        "            z1, z2 = digit_indices[d][i], digit_indices[d][i+1]\n",
        "            pairs += [[x[z1], x[z2]]]\n",
        "            inc = random.randrange(1, 10)\n",
        "            dn = (d + inc) % 10\n",
        "            z1, z2 = digit_indices[d][i], digit_indices[dn][i]\n",
        "            pairs += [[x[z1], x[z2]]]\n",
        "            labels += [1, 0]\n",
        "    return np.array(pairs), np.array(labels)"
      ],
      "execution_count": 0,
      "outputs": []
    },
    {
      "metadata": {
        "id": "aJ2jDNe_8qXJ",
        "colab_type": "code",
        "outputId": "95b2f53f-7057-4c37-e311-29285e6d0ef4",
        "colab": {
          "base_uri": "https://localhost:8080/",
          "height": 68
        }
      },
      "cell_type": "code",
      "source": [
        "import random\n",
        "digit_indices = [np.where(Y_train == i)[0] for i in range(10)]\n",
        "tr_pairs, tr_y = create_pairs(X_train, digit_indices)\n",
        "\n",
        "digit_indices = [np.where(Y_test == i)[0] for i in range(10)]\n",
        "te_pairs, te_y = create_pairs(X_test, digit_indices)\n",
        "tr_pairs.shape"
      ],
      "execution_count": 9,
      "outputs": [
        {
          "output_type": "stream",
          "text": [
            "4999\n",
            "999\n"
          ],
          "name": "stdout"
        },
        {
          "output_type": "execute_result",
          "data": {
            "text/plain": [
              "(99980, 2, 32, 32, 3)"
            ]
          },
          "metadata": {
            "tags": []
          },
          "execution_count": 9
        }
      ]
    },
    {
      "metadata": {
        "id": "Iyx3ZFO2B4RU",
        "colab_type": "code",
        "colab": {}
      },
      "cell_type": "code",
      "source": [
        "def contrastive_loss(y_true, y_pred):\n",
        "    '''Contrastive loss from Hadsell-et-al.'06\n",
        "    http://yann.lecun.com/exdb/publis/pdf/hadsell-chopra-lecun-06.pdf\n",
        "    '''\n",
        "    margin = 1\n",
        "    square_pred = K.square(y_pred)\n",
        "    margin_square = K.square(K.maximum(margin - y_pred, 0))\n",
        "    return K.mean(y_true * square_pred + (1 - y_true) * margin_square)"
      ],
      "execution_count": 0,
      "outputs": []
    },
    {
      "metadata": {
        "id": "HOH8KLiQsFKJ",
        "colab_type": "code",
        "colab": {}
      },
      "cell_type": "code",
      "source": [
        "def accuracy(y_true, y_pred):\n",
        "    '''Compute classification accuracy with a fixed threshold on distances.\n",
        "    '''\n",
        "    return K.mean(K.equal(y_true, K.cast(y_pred < 0.5, y_true.dtype)))"
      ],
      "execution_count": 0,
      "outputs": []
    },
    {
      "metadata": {
        "id": "1V5sgpDcdj2W",
        "colab_type": "code",
        "colab": {}
      },
      "cell_type": "code",
      "source": [
        "# tr_pairs=tr_pairs.reshape((-1, 2, 28, 28,1))\n",
        "# te_pairs=te_pairs.reshape((-1, 2, 28, 28,1))"
      ],
      "execution_count": 0,
      "outputs": []
    },
    {
      "metadata": {
        "id": "Ub7-Yrw29Hwq",
        "colab_type": "code",
        "outputId": "6bfc520e-72e0-4ef4-d802-0fc8291dabab",
        "colab": {
          "base_uri": "https://localhost:8080/",
          "height": 1768
        }
      },
      "cell_type": "code",
      "source": [
        "from keras.callbacks import LearningRateScheduler\n",
        "optimizer = RMSprop()\n",
        "# optimizer =Adam(lr = 0.00006)\n",
        "# optimizer ='adam'\n",
        "model.compile(loss=contrastive_loss, optimizer=optimizer, metrics=[accuracy])\n",
        "# annealer = LearningRateScheduler(lambda x: 1e-4 * 0.9 ** x),callbacks=[annealer]\n",
        "hist=model.fit([tr_pairs[:, 0], tr_pairs[:, 1]], tr_y, batch_size=128, nb_epoch=50,\n",
        "          validation_data=([te_pairs[:, 0], te_pairs[:, 1]], te_y))"
      ],
      "execution_count": 20,
      "outputs": [
        {
          "output_type": "stream",
          "text": [
            "/usr/local/lib/python3.6/dist-packages/ipykernel_launcher.py:8: UserWarning: The `nb_epoch` argument in `fit` has been renamed `epochs`.\n",
            "  \n"
          ],
          "name": "stderr"
        },
        {
          "output_type": "stream",
          "text": [
            "Train on 99980 samples, validate on 19980 samples\n",
            "Epoch 1/50\n",
            "99980/99980 [==============================] - 10s 100us/step - loss: 0.2158 - accuracy: 0.6549 - val_loss: 0.2246 - val_accuracy: 0.6394\n",
            "Epoch 2/50\n",
            "99980/99980 [==============================] - 10s 96us/step - loss: 0.2146 - accuracy: 0.6571 - val_loss: 0.2293 - val_accuracy: 0.6304\n",
            "Epoch 3/50\n",
            "99980/99980 [==============================] - 10s 97us/step - loss: 0.2149 - accuracy: 0.6567 - val_loss: 0.2294 - val_accuracy: 0.6290\n",
            "Epoch 4/50\n",
            "99980/99980 [==============================] - 10s 97us/step - loss: 0.2149 - accuracy: 0.6587 - val_loss: 0.2282 - val_accuracy: 0.6231\n",
            "Epoch 5/50\n",
            "99980/99980 [==============================] - 10s 97us/step - loss: 0.2139 - accuracy: 0.6589 - val_loss: 0.2267 - val_accuracy: 0.6234\n",
            "Epoch 6/50\n",
            "99980/99980 [==============================] - 10s 96us/step - loss: 0.2142 - accuracy: 0.6581 - val_loss: 0.2261 - val_accuracy: 0.6324\n",
            "Epoch 7/50\n",
            "99980/99980 [==============================] - 10s 97us/step - loss: 0.2144 - accuracy: 0.6582 - val_loss: 0.2309 - val_accuracy: 0.6255\n",
            "Epoch 8/50\n",
            "99980/99980 [==============================] - 10s 97us/step - loss: 0.2136 - accuracy: 0.6603 - val_loss: 0.2370 - val_accuracy: 0.6132\n",
            "Epoch 9/50\n",
            "99980/99980 [==============================] - 10s 97us/step - loss: 0.2138 - accuracy: 0.6587 - val_loss: 0.2322 - val_accuracy: 0.6255\n",
            "Epoch 10/50\n",
            "99980/99980 [==============================] - 10s 97us/step - loss: 0.2136 - accuracy: 0.6588 - val_loss: 0.2347 - val_accuracy: 0.6160\n",
            "Epoch 11/50\n",
            "99980/99980 [==============================] - 10s 97us/step - loss: 0.2138 - accuracy: 0.6606 - val_loss: 0.2249 - val_accuracy: 0.6367\n",
            "Epoch 12/50\n",
            "99980/99980 [==============================] - 10s 97us/step - loss: 0.2138 - accuracy: 0.6610 - val_loss: 0.2279 - val_accuracy: 0.6283\n",
            "Epoch 13/50\n",
            "99980/99980 [==============================] - 10s 97us/step - loss: 0.2134 - accuracy: 0.6615 - val_loss: 0.2237 - val_accuracy: 0.6436\n",
            "Epoch 14/50\n",
            "99980/99980 [==============================] - 10s 97us/step - loss: 0.2132 - accuracy: 0.6612 - val_loss: 0.2248 - val_accuracy: 0.6355\n",
            "Epoch 15/50\n",
            "99980/99980 [==============================] - 10s 97us/step - loss: 0.2136 - accuracy: 0.6606 - val_loss: 0.2371 - val_accuracy: 0.6259\n",
            "Epoch 16/50\n",
            "99980/99980 [==============================] - 10s 96us/step - loss: 0.2135 - accuracy: 0.6599 - val_loss: 0.2320 - val_accuracy: 0.6241\n",
            "Epoch 17/50\n",
            "99980/99980 [==============================] - 10s 96us/step - loss: 0.2131 - accuracy: 0.6618 - val_loss: 0.2278 - val_accuracy: 0.6329\n",
            "Epoch 18/50\n",
            "99980/99980 [==============================] - 10s 96us/step - loss: 0.2134 - accuracy: 0.6601 - val_loss: 0.2309 - val_accuracy: 0.6220\n",
            "Epoch 19/50\n",
            "99980/99980 [==============================] - 10s 96us/step - loss: 0.2125 - accuracy: 0.6632 - val_loss: 0.2322 - val_accuracy: 0.6176\n",
            "Epoch 20/50\n",
            "99980/99980 [==============================] - 10s 97us/step - loss: 0.2131 - accuracy: 0.6619 - val_loss: 0.2256 - val_accuracy: 0.6342\n",
            "Epoch 21/50\n",
            "99980/99980 [==============================] - 10s 96us/step - loss: 0.2128 - accuracy: 0.6611 - val_loss: 0.2297 - val_accuracy: 0.6301\n",
            "Epoch 22/50\n",
            "99980/99980 [==============================] - 10s 97us/step - loss: 0.2126 - accuracy: 0.6609 - val_loss: 0.2374 - val_accuracy: 0.6108\n",
            "Epoch 23/50\n",
            "99980/99980 [==============================] - 10s 96us/step - loss: 0.2124 - accuracy: 0.6616 - val_loss: 0.2265 - val_accuracy: 0.6340\n",
            "Epoch 24/50\n",
            "99980/99980 [==============================] - 10s 97us/step - loss: 0.2119 - accuracy: 0.6634 - val_loss: 0.2390 - val_accuracy: 0.6144\n",
            "Epoch 25/50\n",
            "99980/99980 [==============================] - 10s 97us/step - loss: 0.2119 - accuracy: 0.6636 - val_loss: 0.2414 - val_accuracy: 0.6073\n",
            "Epoch 26/50\n",
            "99980/99980 [==============================] - 10s 96us/step - loss: 0.2120 - accuracy: 0.6640 - val_loss: 0.2305 - val_accuracy: 0.6217\n",
            "Epoch 27/50\n",
            "99980/99980 [==============================] - 10s 96us/step - loss: 0.2118 - accuracy: 0.6636 - val_loss: 0.2272 - val_accuracy: 0.6347\n",
            "Epoch 28/50\n",
            "99980/99980 [==============================] - 10s 96us/step - loss: 0.2120 - accuracy: 0.6625 - val_loss: 0.2310 - val_accuracy: 0.6286\n",
            "Epoch 29/50\n",
            "99980/99980 [==============================] - 10s 96us/step - loss: 0.2120 - accuracy: 0.6638 - val_loss: 0.2273 - val_accuracy: 0.6320\n",
            "Epoch 30/50\n",
            "99980/99980 [==============================] - 10s 96us/step - loss: 0.2121 - accuracy: 0.6628 - val_loss: 0.2304 - val_accuracy: 0.6308\n",
            "Epoch 31/50\n",
            "99980/99980 [==============================] - 10s 97us/step - loss: 0.2118 - accuracy: 0.6642 - val_loss: 0.2293 - val_accuracy: 0.6253\n",
            "Epoch 32/50\n",
            "99980/99980 [==============================] - 10s 96us/step - loss: 0.2115 - accuracy: 0.6646 - val_loss: 0.2341 - val_accuracy: 0.6246\n",
            "Epoch 33/50\n",
            "99980/99980 [==============================] - 10s 96us/step - loss: 0.2115 - accuracy: 0.6643 - val_loss: 0.2252 - val_accuracy: 0.6362\n",
            "Epoch 34/50\n",
            "99980/99980 [==============================] - 10s 96us/step - loss: 0.2112 - accuracy: 0.6648 - val_loss: 0.2367 - val_accuracy: 0.6223\n",
            "Epoch 35/50\n",
            "99980/99980 [==============================] - 10s 96us/step - loss: 0.2104 - accuracy: 0.6676 - val_loss: 0.2211 - val_accuracy: 0.6422\n",
            "Epoch 36/50\n",
            "99980/99980 [==============================] - 10s 96us/step - loss: 0.2107 - accuracy: 0.6675 - val_loss: 0.2370 - val_accuracy: 0.6143\n",
            "Epoch 37/50\n",
            "99980/99980 [==============================] - 10s 97us/step - loss: 0.2111 - accuracy: 0.6661 - val_loss: 0.2328 - val_accuracy: 0.6251\n",
            "Epoch 38/50\n",
            "99980/99980 [==============================] - 10s 97us/step - loss: 0.2111 - accuracy: 0.6648 - val_loss: 0.2263 - val_accuracy: 0.6335\n",
            "Epoch 39/50\n",
            "99980/99980 [==============================] - 10s 96us/step - loss: 0.2109 - accuracy: 0.6668 - val_loss: 0.2393 - val_accuracy: 0.6162\n",
            "Epoch 40/50\n",
            "99980/99980 [==============================] - 10s 96us/step - loss: 0.2109 - accuracy: 0.6654 - val_loss: 0.2303 - val_accuracy: 0.6277\n",
            "Epoch 41/50\n",
            "99980/99980 [==============================] - 10s 96us/step - loss: 0.2108 - accuracy: 0.6664 - val_loss: 0.2275 - val_accuracy: 0.6282\n",
            "Epoch 42/50\n",
            "99980/99980 [==============================] - 10s 96us/step - loss: 0.2104 - accuracy: 0.6671 - val_loss: 0.2272 - val_accuracy: 0.6322\n",
            "Epoch 43/50\n",
            "99980/99980 [==============================] - 10s 96us/step - loss: 0.2105 - accuracy: 0.6681 - val_loss: 0.2305 - val_accuracy: 0.6282\n",
            "Epoch 44/50\n",
            "99980/99980 [==============================] - 10s 96us/step - loss: 0.2106 - accuracy: 0.6673 - val_loss: 0.2366 - val_accuracy: 0.6096\n",
            "Epoch 45/50\n",
            "99980/99980 [==============================] - 10s 96us/step - loss: 0.2106 - accuracy: 0.6670 - val_loss: 0.2254 - val_accuracy: 0.6327\n",
            "Epoch 46/50\n",
            "99980/99980 [==============================] - 10s 96us/step - loss: 0.2102 - accuracy: 0.6665 - val_loss: 0.2238 - val_accuracy: 0.6359\n",
            "Epoch 47/50\n",
            "99980/99980 [==============================] - 10s 96us/step - loss: 0.2102 - accuracy: 0.6676 - val_loss: 0.2236 - val_accuracy: 0.6365\n",
            "Epoch 48/50\n",
            "99980/99980 [==============================] - 10s 96us/step - loss: 0.2099 - accuracy: 0.6689 - val_loss: 0.2244 - val_accuracy: 0.6310\n",
            "Epoch 49/50\n",
            "99980/99980 [==============================] - 10s 96us/step - loss: 0.2105 - accuracy: 0.6670 - val_loss: 0.2288 - val_accuracy: 0.6337\n",
            "Epoch 50/50\n",
            "99980/99980 [==============================] - 10s 96us/step - loss: 0.2100 - accuracy: 0.6669 - val_loss: 0.2263 - val_accuracy: 0.6287\n"
          ],
          "name": "stdout"
        }
      ]
    },
    {
      "metadata": {
        "id": "L_Ii_Uayievq",
        "colab_type": "code",
        "colab": {}
      },
      "cell_type": "code",
      "source": [
        "def compute_accuracy(y_true, y_pred):\n",
        "    '''Compute classification accuracy with a fixed threshold on distances.\n",
        "    '''\n",
        "    pred = y_pred.ravel() > 0.5\n",
        "    return np.mean(pred == y_true)"
      ],
      "execution_count": 0,
      "outputs": []
    },
    {
      "metadata": {
        "id": "YE-0MBhWUw1E",
        "colab_type": "code",
        "colab": {
          "base_uri": "https://localhost:8080/",
          "height": 68
        },
        "outputId": "58815a2d-711c-4219-e17a-918ee0642f63"
      },
      "cell_type": "code",
      "source": [
        "pred_y=model.predict([te_pairs[:, 0], te_pairs[:, 1]])\n",
        "compute_accuracy(tr_y, pred_y)"
      ],
      "execution_count": 22,
      "outputs": [
        {
          "output_type": "stream",
          "text": [
            "/usr/local/lib/python3.6/dist-packages/ipykernel_launcher.py:5: DeprecationWarning: elementwise == comparison failed; this will raise an error in the future.\n",
            "  \"\"\"\n"
          ],
          "name": "stderr"
        },
        {
          "output_type": "execute_result",
          "data": {
            "text/plain": [
              "0.0"
            ]
          },
          "metadata": {
            "tags": []
          },
          "execution_count": 22
        }
      ]
    },
    {
      "metadata": {
        "id": "N2tAdzH2bGHw",
        "colab_type": "code",
        "colab": {
          "base_uri": "https://localhost:8080/",
          "height": 286
        },
        "outputId": "bd7ae46f-e857-4656-f71d-b64c372c795d"
      },
      "cell_type": "code",
      "source": [
        "import matplotlib.pyplot as plt\n",
        "import cv2\n",
        "\n",
        "pics_number=8\n",
        "pr_list=np.random.randint(0, te_pairs.shape[0], size=pics_number)\n",
        "\n",
        "fig=plt.figure(figsize=(20, 4))\n",
        "# fig, axes = plt.subplots(nrows=2, ncols=pics_number,figsize=(20, 10))\n",
        "fig.tight_layout()\n",
        "\n",
        "print_i=0\n",
        "for row in pr_list:\n",
        "  print_i+=1\n",
        "  img1=te_pairs[row,0]\n",
        "  img2=te_pairs[row,1]\n",
        "  img1=img1.reshape(32,32,3)\n",
        "  img2=img2.reshape(32,32,3)\n",
        "  \n",
        "#   img1=te_pairs[row,0,:,:,:]\n",
        "#   img2=te_pairs[row,1,:,:,:]\n",
        "\n",
        "  fig.add_subplot(2, pics_number, print_i)\n",
        "  plt.imshow(img1)\n",
        "  fig.add_subplot(2, pics_number, print_i+pics_number)\n",
        "  plt.imshow(img2)\n",
        "  if pred_y[row]>0.5:\n",
        "    text='Not the same class'\n",
        "  else:\n",
        "    text='Same class'\n",
        "  plt.xlabel('{}'.format(text),fontsize = 15,fontweight=\"bold\")\n",
        "#   fig.tight_layout()\n"
      ],
      "execution_count": 25,
      "outputs": [
        {
          "output_type": "display_data",
          "data": {
            "image/png": "[encoded data removed]",
            "text/plain": [
              "<Figure size 1440x288 with 16 Axes>"
            ]
          },
          "metadata": {
            "tags": []
          }
        }
      ]
    }
  ]
}